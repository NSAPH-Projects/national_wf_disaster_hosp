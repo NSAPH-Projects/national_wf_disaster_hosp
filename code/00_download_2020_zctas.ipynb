{
 "cells": [
  {
   "cell_type": "code",
   "execution_count": 21,
   "id": "1716b938",
   "metadata": {},
   "outputs": [],
   "source": [
    "import geopandas as gpd\n",
    "import pathlib\n",
    "from pathlib import Path\n",
    "import pygris"
   ]
  },
  {
   "cell_type": "code",
   "execution_count": 22,
   "id": "24aeeaf5",
   "metadata": {},
   "outputs": [],
   "source": [
    "# output path\n",
    "base_path = pathlib.Path.cwd().parent\n",
    "output_path = base_path / \"local_data\" / 'zctas_2020.parquet'"
   ]
  },
  {
   "cell_type": "code",
   "execution_count": 23,
   "id": "caea04d8",
   "metadata": {},
   "outputs": [],
   "source": [
    "# get zctas\n",
    "zctas_2020 = pygris.zctas(year=2020, cache=True)\n",
    "zctas_2020 = zctas_2020.rename(columns={\"ZCTA5CE20\": \"ID_spatial_unit\"})[[\"ID_spatial_unit\", \"geometry\"]]\n",
    "zctas_2020[\"ID_spatial_unit\"] = zctas_2020[\"ID_spatial_unit\"].astype(str)\n",
    "zctas_2020.to_parquet(output_path)"
   ]
  },
  {
   "cell_type": "code",
   "execution_count": 15,
   "id": "3c1e40a1",
   "metadata": {},
   "outputs": [],
   "source": [
    "# read parquet \n",
    "zctas_2020 = gpd.read_parquet(output_path)"
   ]
  }
 ],
 "metadata": {
  "kernelspec": {
   "display_name": "Python (wf)",
   "language": "python",
   "name": "wf"
  },
  "language_info": {
   "codemirror_mode": {
    "name": "ipython",
    "version": 3
   },
   "file_extension": ".py",
   "mimetype": "text/x-python",
   "name": "python",
   "nbconvert_exporter": "python",
   "pygments_lexer": "ipython3",
   "version": "3.12.4"
  }
 },
 "nbformat": 4,
 "nbformat_minor": 5
}
