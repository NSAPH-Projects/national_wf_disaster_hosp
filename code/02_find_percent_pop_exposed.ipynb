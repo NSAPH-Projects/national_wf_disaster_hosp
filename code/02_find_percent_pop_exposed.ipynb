{
 "cells": [
  {
   "cell_type": "code",
   "execution_count": null,
   "id": "b984d1d8",
   "metadata": {},
   "outputs": [],
   "source": [
    "# First we import some libraries. \n",
    "import pathlib\n",
    "from pathlib import Path\n",
    "import os\n",
    "import sys\n",
    "import matplotlib.pyplot as plt\n",
    "import geopandas as gpd\n",
    "import pandas as pd\n"
   ]
  },
  {
   "cell_type": "code",
   "execution_count": null,
   "id": "737fe307",
   "metadata": {},
   "outputs": [],
   "source": [
    "from new_helpers_may_17 import PopEstimator"
   ]
  },
  {
   "cell_type": "code",
   "execution_count": null,
   "id": "e2aa85b7",
   "metadata": {},
   "outputs": [],
   "source": [
    "# set directories \n",
    "base_path = pathlib.Path.cwd().parent.parent\n",
    "\n",
    "pop_dat_dir = base_path / \"GHSL\" / \"1km\" \n",
    "\n",
    "ghsl_2000 = pop_dat_dir / \"GHS_POP_E2000_GLOBE_R2023A_54009_1000_V1_0\" / \"GHS_POP_E2000_GLOBE_R2023A_54009_1000_V1_0.tif\"\n",
    "ghsl_2005 = pop_dat_dir / \"GHS_POP_E2005_GLOBE_R2023A_54009_1000_V1_0\" / \"GHS_POP_E2005_GLOBE_R2023A_54009_1000_V1_0.tif\"\n",
    "ghsl_2010 = pop_dat_dir / \"GHS_POP_E2010_GLOBE_R2023A_54009_1000_V1_0\" / \"GHS_POP_E2010_GLOBE_R2023A_54009_1000_V1_0.tif\"\n",
    "ghsl_2015 = pop_dat_dir / \"GHS_POP_E2015_GLOBE_R2023A_54009_1000_V1_0\" / \"GHS_POP_E2015_GLOBE_R2023A_54009_1000_V1_0.tif\"\n",
    "ghsl_2020 = pop_dat_dir / \"GHS_POP_E2020_GLOBE_R2023A_54009_1000_V1_0\" / \"GHS_POP_E2020_GLOBE_R2023A_54009_1000_V1_0.tif\"\n",
    "\n",
    "\n",
    "wf_dat = base_path / \"national_wf_disaster_hosp\" / \"local_data\" / \"monthly_wf_exposure\"\n",
    "\n",
    "all_wf_dat = wf_dat / \"all_analysis\"\n",
    "# main_wf_dat = wf_dat / \"main_analysis\"\n",
    "# sensitivity_larger = wf_dat / \"sensitivity_larger\"\n",
    "# sensitivity_smaller = wf_dat / \"sensitivity_smaller\"\n",
    "\n",
    "zctas_2020 = base_path / \"national_wf_disaster_hosp\" / \"local_data\" / \"zctas_2020.parquet\""
   ]
  },
  {
   "cell_type": "code",
   "execution_count": null,
   "id": "eb605c92",
   "metadata": {},
   "outputs": [],
   "source": [
    "# make a list of paths that we're going to use for each month \n",
    "ghsl_paths = [ghsl_2000, ghsl_2005, ghsl_2010, ghsl_2015, ghsl_2020]\n",
    "\n",
    "# rep pattern\n",
    "rep_pattern = [3*12, 5*12 ,5*12 ,5*12 ,1*12]\n",
    "\n",
    "# list of ghsls to use for months\n",
    "repeated_paths = [path for path, count in zip(ghsl_paths, rep_pattern) for _ in range(count)]\n"
   ]
  },
  {
   "cell_type": "code",
   "execution_count": null,
   "id": "81af0592",
   "metadata": {},
   "outputs": [],
   "source": [
    "all_wf_exposure = sorted([all_wf_dat / file for file in os.listdir(all_wf_dat) if 'month' in file])"
   ]
  },
  {
   "cell_type": "code",
   "execution_count": null,
   "id": "a25810fa",
   "metadata": {},
   "outputs": [],
   "source": [
    "print(all_wf_exposure)"
   ]
  },
  {
   "cell_type": "code",
   "execution_count": null,
   "id": "e721b9ca",
   "metadata": {},
   "outputs": [],
   "source": [
    "est = PopEstimator()"
   ]
  },
  {
   "cell_type": "code",
   "execution_count": null,
   "id": "945ef8a7",
   "metadata": {},
   "outputs": [],
   "source": [
    "zctas = est.prepare_data(path_to_data=zctas_2020, geo_type='spatial_unit')"
   ]
  },
  {
   "cell_type": "code",
   "execution_count": null,
   "id": "1280debe",
   "metadata": {},
   "outputs": [],
   "source": [
    "zctas.plot()"
   ]
  },
  {
   "cell_type": "code",
   "execution_count": null,
   "id": "925a5426",
   "metadata": {},
   "outputs": [],
   "source": [
    "from tqdm import tqdm\n",
    "\n",
    "wfs = []\n",
    "for i in tqdm(range(len(all_wf_exposure)), desc=\"Preparing hazard data\"):\n",
    "    wf = est.prepare_data(path_to_data=all_wf_exposure[i], geo_type='hazard')\n",
    "    wfs.append(wf)"
   ]
  },
  {
   "cell_type": "code",
   "execution_count": null,
   "id": "730c4154",
   "metadata": {},
   "outputs": [],
   "source": [
    "print(wfs[200].head())\n",
    "wfs[200].crs"
   ]
  },
  {
   "cell_type": "code",
   "execution_count": null,
   "id": "94888cbb",
   "metadata": {},
   "outputs": [],
   "source": [
    "exposed_pop_df = est.estimate_exposed_pop(\n",
    "            pop_path=repeated_paths[227], hazards=wfs[227], hazard_specific=False,\n",
    "            spatial_units=zctas)\n",
    "    "
   ]
  },
  {
   "cell_type": "code",
   "execution_count": null,
   "id": "417155e5",
   "metadata": {},
   "outputs": [],
   "source": [
    "exposed_pop_df.head()"
   ]
  },
  {
   "cell_type": "code",
   "execution_count": null,
   "id": "4ae84f16",
   "metadata": {},
   "outputs": [],
   "source": [
    "exposed_pop = []\n",
    "for i in tqdm(range(len(wfs)), desc=\"Calculating exposed population\"):\n",
    "    exposed_pop_df = est.estimate_exposed_pop(\n",
    "        pop_path=repeated_paths[i], hazards=wfs[i], hazard_specific=False\n",
    "    )\n",
    "    exposed_pop_df[\"month\"] = i + 1 # add month column\n",
    "    exposed_pop.append(exposed_pop_df)"
   ]
  },
  {
   "cell_type": "code",
   "execution_count": null,
   "id": "d720525b",
   "metadata": {},
   "outputs": [],
   "source": [
    "# Combine all the dataframes into one, joining on ID hazard and ID spatilal unit\n",
    "combined_df = pd.concat(exposed_pop, ignore_index=True)"
   ]
  },
  {
   "cell_type": "code",
   "execution_count": null,
   "id": "3b0dcb0b",
   "metadata": {},
   "outputs": [],
   "source": [
    "print(combined_df)"
   ]
  },
  {
   "cell_type": "code",
   "execution_count": null,
   "id": "66399386",
   "metadata": {},
   "outputs": [],
   "source": [
    "pops = []\n",
    "for i in tqdm(range(len(ghsl_paths)), desc='Calculating ZCTA pop'):\n",
    "    pop = est.estimate_pop(pop_path=ghsl_paths[i],\n",
    "                           spatial_units=zctas)\n",
    "    pops.append(pop)\n",
    "    "
   ]
  },
  {
   "cell_type": "code",
   "execution_count": null,
   "id": "55f4b64f",
   "metadata": {},
   "outputs": [],
   "source": [
    "from concurrent.futures import ProcessPoolExecutor\n",
    "import pandas as pd\n",
    "\n",
    "# Define a function to process a single file\n",
    "def process_file(i):\n",
    "    # Extract the month from the first 15 characters of the file name\n",
    "    month = str(main_wf_exposure[i-1].name[6:16])\n",
    "    \n",
    "    # Perform the exposure calculation\n",
    "    monthly_exposure = find_exposure.find_num_people_affected_by_geo(\n",
    "        path_to_hazards=main_wf_exposure[i-1],\n",
    "        path_to_additional_geos=zctas_2020,\n",
    "        raster_path=repeated_paths[i-1],\n",
    "        by_unique_hazard=False\n",
    "    )\n",
    "    \n",
    "    # Add the month column to the result\n",
    "    monthly_exposure['month'] = month\n",
    "    \n",
    "    return monthly_exposure\n",
    "\n",
    "# Run the processing in parallel\n",
    "results = []\n",
    "with ProcessPoolExecutor() as executor:\n",
    "    # Map the process_file function to the range of indices\n",
    "    results = list(executor.map(process_file, range(1, len(main_wf_exposure) + 1)))\n",
    "\n",
    "# Combine all results into a single DataFrame\n",
    "final_results = pd.concat(results, ignore_index=True)\n",
    "\n",
    "# Display the final results\n",
    "final_results.head()"
   ]
  },
  {
   "cell_type": "code",
   "execution_count": null,
   "id": "2c4e4dc9",
   "metadata": {},
   "outputs": [],
   "source": [
    "results = []  # List to store results with the added month column\n",
    "for i in range(1, 2):\n",
    "    # Extract the month from the first 15 characters of the file name\n",
    "    month = str(main_wf_exposure[i-1].name[6:16])\n",
    "    \n",
    "    # Perform the exposure calculation\n",
    "    monthly_exposure = find_exposure.find_num_people_affected_by_geo(\n",
    "        path_to_hazards=main_wf_exposure[i-1],\n",
    "        path_to_additional_geos=zctas_2020,\n",
    "        raster_path=repeated_paths[i-1],\n",
    "        by_unique_hazard=False\n",
    "    )\n",
    "    \n",
    "    # Add the month column to the result\n",
    "    monthly_exposure['month'] = month\n",
    "    \n",
    "    # Append the result to the list\n",
    "    results.append(monthly_exposure)\n",
    "\n",
    "# Combine all results into a single DataFrame if needed\n",
    "final_results = pd.concat(results, ignore_index=True)"
   ]
  },
  {
   "cell_type": "code",
   "execution_count": null,
   "id": "d479eed7",
   "metadata": {},
   "outputs": [],
   "source": [
    "i = 1\n",
    "month = str(main_wf_exposure[i-1].name[6:16])\n",
    "print(month)\n"
   ]
  },
  {
   "cell_type": "code",
   "execution_count": null,
   "id": "89db675a",
   "metadata": {},
   "outputs": [],
   "source": [
    "print(main_wf_exposure[i-1])\n",
    "print(zctas_2020)\n",
    "print(repeated_paths[i-1])"
   ]
  },
  {
   "cell_type": "code",
   "execution_count": null,
   "id": "721a40ce",
   "metadata": {},
   "outputs": [],
   "source": [
    "# Perform the exposure calculation\n",
    "monthly_exposure = find_exposure.find_num_people_affected_by_geo(\n",
    "  path_to_hazards=main_wf_exposure[i-1],\n",
    "  path_to_additional_geos=zctas_2020,\n",
    "  raster_path=repeated_paths[i-1],\n",
    "  by_unique_hazard=False)\n",
    "    \n"
   ]
  },
  {
   "cell_type": "code",
   "execution_count": null,
   "id": "9f79d409",
   "metadata": {},
   "outputs": [],
   "source": [
    "print(monthly_exposure)"
   ]
  },
  {
   "cell_type": "code",
   "execution_count": null,
   "id": "35e4dac4",
   "metadata": {},
   "outputs": [],
   "source": [
    "# Add the month column to the result\n",
    "monthly_exposure['month'] = month"
   ]
  }
 ],
 "metadata": {
  "kernelspec": {
   "display_name": "wf",
   "language": "python",
   "name": "python3"
  },
  "language_info": {
   "codemirror_mode": {
    "name": "ipython",
    "version": 3
   },
   "file_extension": ".py",
   "mimetype": "text/x-python",
   "name": "python",
   "nbconvert_exporter": "python",
   "pygments_lexer": "ipython3",
   "version": "3.12.4"
  }
 },
 "nbformat": 4,
 "nbformat_minor": 5
}
